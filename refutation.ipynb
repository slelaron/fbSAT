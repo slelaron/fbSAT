{
 "cells": [
  {
   "cell_type": "code",
   "execution_count": 1,
   "metadata": {},
   "outputs": [],
   "source": [
    "from pysat.formula import CNF, IDPool\n",
    "from pysat.solvers import Minisat22\n",
    "from pysat.card import CardEnc, EncType"
   ]
  },
  {
   "cell_type": "code",
   "execution_count": 2,
   "metadata": {},
   "outputs": [],
   "source": [
    "def myvar(i):\n",
    "    return vpool.id(f'myvar@{i}')"
   ]
  },
  {
   "cell_type": "code",
   "execution_count": 3,
   "metadata": {},
   "outputs": [],
   "source": [
    "vpool = IDPool(start_from=1)\n",
    "cnf = CNF()\n",
    "N = 10\n",
    "vs = [myvar(i) for i in range(1, N+1)]\n",
    "\n",
    "# Propagate 1's to the right, i.e. the solution is \"00..011..1\"\n",
    "for i in range(1, N):\n",
    "    cnf.append((-myvar(i), myvar(i+1)))\n",
    "\n",
    "cnf.append([-myvar(1)])\n",
    "cnf.extend(CardEnc.atleast(vs, 2, vpool=vpool, encoding=EncType.totalizer).clauses)\n",
    "cnf.extend(CardEnc.atmost(vs, 7, vpool=vpool, encoding=EncType.totalizer).clauses)"
   ]
  },
  {
   "cell_type": "code",
   "execution_count": 4,
   "metadata": {},
   "outputs": [
    {
     "name": "stdout",
     "output_type": "stream",
     "text": [
      "UNSAT\n",
      "Core: [3, 4, 5, 6, 7, 8, 9, 10]\n"
     ]
    }
   ],
   "source": [
    "with Minisat22(bootstrap_with=cnf.clauses) as s:\n",
    "    if s.solve(assumptions=vs[::-1]):\n",
    "    #if s.solve():\n",
    "        model = [None] + [x > 0 for x in s.get_model()]\n",
    "        print(\"SAT\")\n",
    "        print(list(range(1, N+1)))\n",
    "        print(f\"{[int(model[v]) for v in vs]}\")\n",
    "    else:\n",
    "        print(\"UNSAT\")\n",
    "        print(f\"Core: {s.get_core()}\")"
   ]
  },
  {
   "cell_type": "code",
   "execution_count": 16,
   "metadata": {},
   "outputs": [],
   "source": [
    "#n = 5\n",
    "#k = 5\n",
    "#edges = [(1, 2), (2, 3), (3, 4), (4, 1), (1, 5), (2, 5), (3, 5), (4, 5)]\n",
    "n = 4\n",
    "k = 4\n",
    "edges = [(1, 2), (2, 3), (1, 3), (1, 4), (2, 4), (3, 4)]"
   ]
  },
  {
   "cell_type": "code",
   "execution_count": 17,
   "metadata": {},
   "outputs": [
    {
     "name": "stdout",
     "output_type": "stream",
     "text": [
      "SAT {1: 3, 2: 2, 3: 1, 4: 0}\n"
     ]
    }
   ],
   "source": [
    "# static k\n",
    "\n",
    "vpool = IDPool(start_from=1)\n",
    "cnf = CNF()\n",
    "\n",
    "for v in range(1, n + 1):\n",
    "    for i in range(k):\n",
    "        for j in range(i + 1, k):\n",
    "            cnf.append([-myvar(v * k + i), -myvar(v * k + j)])\n",
    "for v in range(1, n + 1):\n",
    "    cnf.append([myvar(v * k + i) for i in range(k)])\n",
    "for a, b in edges:\n",
    "    for i in range(k):\n",
    "        cnf.append([-myvar(a * k + i), -myvar(b * k + i)])\n",
    "with Minisat22(bootstrap_with=cnf.clauses) as s:\n",
    "    if s.solve():\n",
    "        colors = {key // k : key % k for key, value in zip(list(range(k, (n + 1) * k)), s.get_model()) if value > 0}\n",
    "        print(f\"SAT {colors}\")\n",
    "    else:\n",
    "        print(\"UNSAT\")"
   ]
  },
  {
   "cell_type": "code",
   "execution_count": 18,
   "metadata": {},
   "outputs": [
    {
     "name": "stdout",
     "output_type": "stream",
     "text": [
      "UNSAT\n",
      "Core: [2, 3, 4]\n"
     ]
    }
   ],
   "source": [
    "# dinamic k\n",
    "\n",
    "vpoll = IDPool(start_from=1)\n",
    "cnf = CNF()\n",
    "\n",
    "for v in range(1, n + 1):\n",
    "    for i in range(k):\n",
    "        for j in range(i + 1, k):\n",
    "            cnf.append([-myvar(v * k + i), -myvar(v * k + j)])\n",
    "            \n",
    "for v in range(1, n + 1):\n",
    "    cnf.append([myvar(v * k + i) for i in range(k)])\n",
    "\n",
    "for a, b in edges:\n",
    "    for i in range(k):\n",
    "        cnf.append([-myvar(a * k + i), -myvar(b * k + i)])\n",
    "\n",
    "for v in range(1, n + 1):\n",
    "    for i in range(k):\n",
    "        cnf.append([-myvar(v * k + i), myvar((n + 1) * k + i)])\n",
    "        \n",
    "for i in range(k - 1):\n",
    "    cnf.append([myvar((n + 1) * k + i), -myvar((n + 1) * k + i + 1)])\n",
    "    \n",
    "cnf.append([myvar((n + 1) * k)])\n",
    "\n",
    "#for v in range(1, n + 1):\n",
    "#    cnf.extend(CardEnc.equals([myvar(v * k + i) for i in range(k)], 1, vpool=vpool, encoding=EncType.totalizer).clauses)\n",
    "\n",
    "    \n",
    "with Minisat22(bootstrap_with=cnf.clauses) as s:\n",
    "    if s.solve(assumptions=[-myvar((n + 1) * k + i) for i in range(k)][::-1]):\n",
    "    #if s.solve(): \n",
    "        colors = {key // k : key % k for key, value in zip(list(range(k, (n + 1) * k)), s.get_model()) if value > 0}\n",
    "        print(f\"SAT {colors}\")\n",
    "    else:\n",
    "        print(\"UNSAT\")\n",
    "        core = s.get_core()\n",
    "        #print(s.get_core())\n",
    "        #print([myvar((n + 1) * k + i) for i in range(k)])\n",
    "        print(f\"Core: {[i + 1 for i in range(k) if -myvar((n + 1) * k + i) in core]}\")"
   ]
  },
  {
   "cell_type": "code",
   "execution_count": null,
   "metadata": {},
   "outputs": [],
   "source": []
  }
 ],
 "metadata": {
  "kernelspec": {
   "display_name": "Python 3",
   "language": "python",
   "name": "python3"
  },
  "language_info": {
   "codemirror_mode": {
    "name": "ipython",
    "version": 3
   },
   "file_extension": ".py",
   "mimetype": "text/x-python",
   "name": "python",
   "nbconvert_exporter": "python",
   "pygments_lexer": "ipython3",
   "version": "3.8.5"
  }
 },
 "nbformat": 4,
 "nbformat_minor": 4
}
